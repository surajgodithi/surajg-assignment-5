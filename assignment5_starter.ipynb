{
 "cells": [
  {
   "cell_type": "code",
   "execution_count": 87,
   "metadata": {},
   "outputs": [],
   "source": [
    "import numpy as np\n",
    "import pandas as pd\n",
    "from sklearn.preprocessing import StandardScaler, OneHotEncoder\n",
    "from sklearn.compose import ColumnTransformer\n",
    "from sklearn.pipeline import Pipeline\n",
    "from sklearn.model_selection import StratifiedKFold\n",
    "from sklearn.metrics import roc_auc_score\n"
   ]
  },
  {
   "cell_type": "code",
   "execution_count": 88,
   "metadata": {},
   "outputs": [],
   "source": [
    "# Define the KNN class\n",
    "class KNN:\n",
    "    def __init__(self, k=3, distance_metric='euclidean'):\n",
    "        self.k = k\n",
    "        self.distance_metric = distance_metric\n",
    "\n",
    "    def fit(self, X, y):\n",
    "        self.X_train = X\n",
    "        self.y_train = np.array(y)\n",
    "\n",
    "    def predict(self, X):\n",
    "        predictions = []\n",
    "        for x in X:\n",
    "            distances = self.compute_distance(self.X_train, x)\n",
    "            k_indices = distances.argsort()[:self.k]\n",
    "            k_nearest_labels = self.y_train[k_indices]\n",
    "            unique, counts = np.unique(k_nearest_labels, return_counts=True)\n",
    "            predictions.append(unique[counts.argmax()])\n",
    "    \n",
    "        return np.array(predictions)\n",
    "\n",
    "    def compute_distance(self, X1, X2):\n",
    "        if self.distance_metric == 'euclidean':\n",
    "            return np.sqrt(np.sum((X1 - X2)**2, axis=1))\n",
    "        elif self.distance_metric == 'manhattan':\n",
    "            return np.sum(np.abs(X1 - X2), axis=1)\n",
    "        else:\n",
    "            raise ValueError(f\"Unsupported distance metric: {self.distance_metric}\")"
   ]
  },
  {
   "cell_type": "code",
   "execution_count": 89,
   "metadata": {},
   "outputs": [],
   "source": [
    "\n",
    "def preprocess_data(train_path, test_path):\n",
    "    train_data = pd.read_csv(train_path)\n",
    "    test_data = pd.read_csv(test_path)\n",
    "\n",
    "    train_data = train_data.drop(['CustomerId', 'Surname'], axis=1)\n",
    "    test_data = test_data.drop(['CustomerId', 'Surname'], axis=1)\n",
    "\n",
    "    X_train = train_data.drop('Exited', axis=1)\n",
    "    y_train = train_data['Exited']\n",
    "    \n",
    "    X_test = test_data.copy()\n",
    "\n",
    "    categorical_cols = ['Geography', 'Gender']\n",
    "    numerical_cols = ['CreditScore', 'Age', 'Tenure', 'Balance', 'NumOfProducts', 'HasCrCard', 'IsActiveMember', 'EstimatedSalary']\n",
    "\n",
    "    preprocessor = ColumnTransformer(\n",
    "        transformers=[\n",
    "            ('num', StandardScaler(), numerical_cols),\n",
    "            ('cat', OneHotEncoder(drop='first'), categorical_cols)\n",
    "        ]\n",
    "    )\n",
    "\n",
    "    X_train_preprocessed = preprocessor.fit_transform(X_train)\n",
    "    X_test_preprocessed = preprocessor.transform(X_test)\n",
    "\n",
    "    print(\"Shape of X_train_preprocessed:\", X_train_preprocessed.shape)\n",
    "    print(\"Shape of y_train:\", y_train.shape)\n",
    "    print(\"Shape of X_test_preprocessed:\", X_test_preprocessed.shape)\n",
    "\n",
    "    return X_train_preprocessed, X_test_preprocessed, y_train\n"
   ]
  },
  {
   "cell_type": "code",
   "execution_count": 90,
   "metadata": {},
   "outputs": [],
   "source": [
    "\n",
    "def cross_validate(X, y, knn, n_splits=5):\n",
    "    skf = StratifiedKFold(n_splits=n_splits)\n",
    "    auc_scores = []\n",
    "\n",
    "    for train_index, val_index in skf.split(X, y):\n",
    "        X_train, X_val = X[train_index], X[val_index]\n",
    "        y_train, y_val = y[train_index], y[val_index]\n",
    "\n",
    "        knn.fit(X_train, y_train)\n",
    "        \n",
    "        y_pred = knn.predict(X_val)\n",
    "        \n",
    "        auc = roc_auc_score(y_val, y_pred)\n",
    "        auc_scores.append(auc)\n",
    "\n",
    "    return np.mean(auc_scores), auc_scores\n"
   ]
  },
  {
   "cell_type": "code",
   "execution_count": 91,
   "metadata": {},
   "outputs": [
    {
     "name": "stdout",
     "output_type": "stream",
     "text": [
      "Shape of X_train_preprocessed: (15000, 11)\n",
      "Shape of y_train: (15000,)\n",
      "Shape of X_test_preprocessed: (10000, 11)\n",
      "Cross-validation AUC scores: [np.float64(0.7774717321356196), np.float64(0.7678002762682283), np.float64(0.775059533193671), np.float64(0.7850646896391246), np.float64(0.7605619355189593)]\n",
      "Mean cross-validation AUC: 0.7731916333511206\n"
     ]
    }
   ],
   "source": [
    "X_train_preprocessed, X_test_preprocessed, y_train = preprocess_data('train.csv', 'test.csv')\n",
    "\n",
    "# Create the KNN model\n",
    "knn = KNN(k=5, distance_metric='euclidean')\n",
    "\n",
    "# Perform cross-validation on the preprocessed training data and labels\n",
    "cv_scores, auc_scores = cross_validate(X_train_preprocessed, y_train, knn)\n",
    "\n",
    "# Print cross-validation results\n",
    "print(\"Cross-validation AUC scores:\", auc_scores)\n",
    "print(\"Mean cross-validation AUC:\", cv_scores)\n",
    "\n",
    "# Train the model on the full dataset and make predictions on the test set\n",
    "knn.fit(X_train_preprocessed, y_train)\n",
    "test_predictions = knn.predict(X_test_preprocessed)\n",
    "\n",
    "# Save the test predictions\n",
    "submission = pd.DataFrame({'id': pd.read_csv('test.csv')['id'], 'Exited': test_predictions})\n",
    "submission.to_csv('submissions.csv', index=False)"
   ]
  }
 ],
 "metadata": {
  "kernelspec": {
   "display_name": "cs506",
   "language": "python",
   "name": "python3"
  },
  "language_info": {
   "codemirror_mode": {
    "name": "ipython",
    "version": 3
   },
   "file_extension": ".py",
   "mimetype": "text/x-python",
   "name": "python",
   "nbconvert_exporter": "python",
   "pygments_lexer": "ipython3",
   "version": "3.10.15"
  }
 },
 "nbformat": 4,
 "nbformat_minor": 2
}
